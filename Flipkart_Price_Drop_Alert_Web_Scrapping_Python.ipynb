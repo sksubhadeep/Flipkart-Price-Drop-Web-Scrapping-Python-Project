{
 "cells": [
  {
   "cell_type": "code",
   "execution_count": null,
   "id": "0522db97",
   "metadata": {},
   "outputs": [],
   "source": [
    "# Importing libraries \n",
    "import pandas as pd\n",
    "from bs4 import BeautifulSoup\n",
    "import requests\n",
    "import time\n",
    "import datetime\n",
    "import smtplib\n",
    "import csv "
   ]
  },
  {
   "cell_type": "code",
   "execution_count": null,
   "id": "956a69f5",
   "metadata": {},
   "outputs": [],
   "source": [
    "#Paste the url of the product\n",
    "url = \"https://www.flipkart.com/dell-inspiron-core-i5-11th-gen-1135g7-16-gb-512-gb-ssd-windows-11-home-3511-thin-light-laptop/p/itm59a067b722f53?pid=COMG9QVUUFXRGJGZ&lid=LSTCOMG9QVUUFXRGJGZMVPEPO&marketplace=FLIPKART&q=laptop&store=6bo%2Fb5g&srno=s_1_4&otracker=search&otracker1=search&fm=Search&iid=65e003cc-d2f2-460c-b5ec-3d24bc8d4541.COMG9QVUUFXRGJGZ.SEARCH&ppt=sp&ppn=sp&ssid=nr4l73o3cw0000001694280284404&qH=312f91285e048e09\"\n",
    "headers = {\"User-Agent\": \"Mozilla/5.0 (Windows NT 10.0; Win64; x64) AppleWebKit/537.36 (KHTML, like Gecko) Chrome/116.0.0.0 Safari/537.36 Edg/116.0.1938.76\"}\n",
    "\n",
    "page = requests.get(url,headers= headers)\n",
    "\n",
    "#Extracting only the required information form the webpage\n",
    "soup = BeautifulSoup((BeautifulSoup(page.content, \"html.parser\")).prettify(), \"html.parser\")\n",
    "\n",
    "#Fetch the title of the product\n",
    "title = (soup.find(\"span\",{\"class\":'B_NuCI'}).get_text()).strip().split(\"-\")[0]\n",
    "\n",
    "#fetch the price of the product\n",
    "price = int(((soup.find(\"div\",{\"class\":'_30jeq3 _16Jk6d'}).get_text()).strip()[1:]).replace(\",\",\"\"))\n",
    "\n",
    "#Current date\n",
    "today = datetime.date.today()\n",
    "\n",
    "print(title)\n",
    "print(price)\n",
    "print(today)\n"
   ]
  },
  {
   "cell_type": "code",
   "execution_count": null,
   "id": "0a0b5712",
   "metadata": {},
   "outputs": [],
   "source": [
    "# Saving the data into computer\n",
    "\n",
    "header = ['Title', 'Price', 'Date']\n",
    "row = [title, price, today]\n",
    "\n",
    "path = 'C:/Users/sksub/OneDrive/Desktop/' + str(title) + '.csv'\n",
    "with open(path, 'a') as f:\n",
    "    writer = csv.writer(f)\n",
    "    writer.writerow(header)\n",
    "    writer.writerow(row)"
   ]
  },
  {
   "cell_type": "code",
   "execution_count": null,
   "id": "50149689",
   "metadata": {},
   "outputs": [],
   "source": [
    "#Displaying the data\n",
    "path = 'C:/Users/sksub/OneDrive/Desktop/' + str(title) + '.csv'\n",
    "df = pd.read_csv(path)\n",
    "print(df)"
   ]
  },
  {
   "cell_type": "code",
   "execution_count": null,
   "id": "5d74ed3c",
   "metadata": {},
   "outputs": [],
   "source": [
    "#Appending new values to the dataset\n",
    "path = 'C:/Users/sksub/OneDrive/Desktop/' + str(title) + '.csv'\n",
    "with open(path, 'a') as f:\n",
    "    writer = csv.writer(f)\n",
    "    writer.writerow(data)"
   ]
  },
  {
   "cell_type": "code",
   "execution_count": null,
   "id": "ee6a42a2",
   "metadata": {},
   "outputs": [],
   "source": [
    "#Creading a Price Checking Function\n",
    "def priceCheck():\n",
    "    \n",
    "    url = \"https://www.flipkart.com/dell-inspiron-core-i5-11th-gen-1135g7-16-gb-512-gb-ssd-windows-11-home-3511-thin-light-laptop/p/itm59a067b722f53?pid=COMG9QVUUFXRGJGZ&lid=LSTCOMG9QVUUFXRGJGZMVPEPO&marketplace=FLIPKART&q=laptop&store=6bo%2Fb5g&srno=s_1_4&otracker=search&otracker1=search&fm=Search&iid=65e003cc-d2f2-460c-b5ec-3d24bc8d4541.COMG9QVUUFXRGJGZ.SEARCH&ppt=sp&ppn=sp&ssid=nr4l73o3cw0000001694280284404&qH=312f91285e048e09\"\n",
    "    headers = {\"User-Agent\": \"Mozilla/5.0 (Windows NT 10.0; Win64; x64) AppleWebKit/537.36 (KHTML, like Gecko) Chrome/116.0.0.0 Safari/537.36 Edg/116.0.1938.76\"}\n",
    "    page = requests.get(url,headers= headers)\n",
    "    soup = BeautifulSoup((BeautifulSoup(page.content, \"html.parser\")).prettify(), \"html.parser\")\n",
    "    price = int(((soup.find(\"div\",{\"class\":'_30jeq3 _16Jk6d'}).get_text()).strip()[1:]).replace(\",\",\"\"))\n",
    "    today = datetime.date.today()\n",
    "    header = ['Title', 'Price', 'Date']\n",
    "    row = [title, price, today]\n",
    "    path = 'C:/Users/sksub/OneDrive/Desktop/' + str(title) + '.csv'\n",
    "    with open(path, 'a') as f:\n",
    "        writer = csv.writer(f)\n",
    "        #writer.writerow(header)\n",
    "        writer.writerow(row)\n",
    "    return price\n",
    "  \n",
    "def send_mail():\n",
    "    server = smtplib.SMTP_SSL('smtp.gmail.com',465)\n",
    "    server.ehlo()\n",
    "    #server.starttls()\n",
    "    server.ehlo()\n",
    "    server.login('subhadeep.kar@aot.edu.in','********')\n",
    "    \n",
    "    subject = \"Price Drop Alert!!!!\"\n",
    "    body = \"The price of the product has dropped. Place your order fast\"\n",
    "   \n",
    "    msg = f\"Subject: {subject}\\n\\n{body}\"\n",
    "    \n",
    "    server.sendmail(\n",
    "        'sksubhadeep@gmail.com',\n",
    "        msg\n",
    "    )\n",
    "\n",
    "\n",
    "\n",
    "# Checks the price of the product daily for 1 month and saves the data into a file\n",
    "flag = 0\n",
    "while(flag<30):\n",
    "    x=priceCheck()\n",
    "    if x<54000:\n",
    "        send_mail()\n",
    "        break\n",
    "    time.sleep(86400)\n",
    "    flag+=1\n",
    "    "
   ]
  },
  {
   "cell_type": "code",
   "execution_count": null,
   "id": "13455dc7",
   "metadata": {},
   "outputs": [],
   "source": []
  }
 ],
 "metadata": {
  "kernelspec": {
   "display_name": "Python 3 (ipykernel)",
   "language": "python",
   "name": "python3"
  },
  "language_info": {
   "codemirror_mode": {
    "name": "ipython",
    "version": 3
   },
   "file_extension": ".py",
   "mimetype": "text/x-python",
   "name": "python",
   "nbconvert_exporter": "python",
   "pygments_lexer": "ipython3",
   "version": "3.9.12"
  }
 },
 "nbformat": 4,
 "nbformat_minor": 5
}
